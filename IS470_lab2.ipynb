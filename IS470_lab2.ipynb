{
  "nbformat": 4,
  "nbformat_minor": 0,
  "metadata": {
    "colab": {
      "name": "IS470_lab2.ipynb",
      "provenance": [],
      "collapsed_sections": [],
      "toc_visible": true
    },
    "kernelspec": {
      "name": "python3",
      "display_name": "Python 3"
    },
    "language_info": {
      "name": "python"
    }
  },
  "cells": [
    {
      "cell_type": "markdown",
      "metadata": {
        "id": "cRS1sr2oHxhv"
      },
      "source": [
        "#IS 470 Lab 2: Data Exploration\n",
        "\n",
        "---\n",
        "\n"
      ]
    },
    {
      "cell_type": "markdown",
      "metadata": {
        "id": "npQDL8lSH714"
      },
      "source": [
        "##Part 1: Pokemon Data\n",
        "<br>\n",
        "This dataset contains information on 800 Pokemon from six generations of Pokemon.<br>\n",
        "<br>\n",
        "VARIABLE DESCRIPTIONS:<br>\n",
        "number: The entry number of the Pokemon<br>\n",
        "name: The English name of the Pokemon<br>\n",
        "type1: The Primary Type of the Pokemon<br>\n",
        "type2: The Secondary Type of the Pokemon<br>\n",
        "hp: The Base HP of the Pokemon<br>\n",
        "attack: The Base Attack of the Pokemon<br>\n",
        "defense: The Base Defense of the Pokemon<br>\n",
        "sp.atk: The Base Special Attack of the Pokemon<br>\n",
        "sp.def: The Base Special Defense of the Pokemon<br>\n",
        "speed: The Base Speed of the Pokemon<br>\n",
        "generation: The numbered generation which the Pokemon was first introduced<br>\n",
        "legendary: Denotes if the Pokemon is legendary.<br>\n",
        "<br>"
      ]
    },
    {
      "cell_type": "markdown",
      "metadata": {
        "id": "oX6Nz3vgIzg4"
      },
      "source": [
        "###1. Upload and clean data"
      ]
    },
    {
      "cell_type": "code",
      "metadata": {
        "id": "6j99MpIsHPf7"
      },
      "source": [
        "# Mounting Google Drive\n",
        "from google.colab import drive\n",
        "drive.mount('/content/drive')"
      ],
      "execution_count": null,
      "outputs": []
    },
    {
      "cell_type": "code",
      "metadata": {
        "id": "4FM3FiCKJjpg"
      },
      "source": [
        "# Import libraries\n",
        "import pandas as pd\n",
        "import seaborn as sns"
      ],
      "execution_count": 2,
      "outputs": []
    },
    {
      "cell_type": "code",
      "metadata": {
        "id": "V-IiU92JI6Sf"
      },
      "source": [
        "# Read data\n",
        "pokemon = pd.read_csv('/content/drive/MyDrive/IS470_data/pokemon.csv')\n",
        "pokemon"
      ],
      "execution_count": null,
      "outputs": []
    },
    {
      "cell_type": "code",
      "metadata": {
        "id": "O2MctaG4JR-9"
      },
      "source": [
        "# Examine the number of rows and cols\n",
        "pokemon.shape"
      ],
      "execution_count": null,
      "outputs": []
    },
    {
      "cell_type": "code",
      "metadata": {
        "id": "LJBHjUuzJWnA"
      },
      "source": [
        "# Show the head rows of a data frame\n",
        "pokemon.head()"
      ],
      "execution_count": null,
      "outputs": []
    },
    {
      "cell_type": "code",
      "metadata": {
        "id": "zJ2-UAfgNqib"
      },
      "source": [
        "# Show the tail rows of a data frame\n",
        "pokemon.tail()"
      ],
      "execution_count": null,
      "outputs": []
    },
    {
      "cell_type": "code",
      "metadata": {
        "id": "VxmbbJIKJ1nP"
      },
      "source": [
        "# Examine missing values\n",
        "pokemon.isnull().sum()"
      ],
      "execution_count": null,
      "outputs": []
    },
    {
      "cell_type": "code",
      "metadata": {
        "id": "fyaTjW5NLDRq"
      },
      "source": [
        "# Set missing values as none\n",
        "pokemon = pokemon.fillna('None')"
      ],
      "execution_count": 8,
      "outputs": []
    },
    {
      "cell_type": "code",
      "metadata": {
        "id": "sqbO0k-XLM_j"
      },
      "source": [
        "# Examine missing values again\n",
        "pokemon.isnull().sum()"
      ],
      "execution_count": null,
      "outputs": []
    },
    {
      "cell_type": "code",
      "metadata": {
        "id": "15hKqTMTLeHP"
      },
      "source": [
        "# Remove the unique identifier (pokemon number) from further analysis\n",
        "pokemon = pokemon.drop(['#'],axis=1)\n",
        "pokemon"
      ],
      "execution_count": null,
      "outputs": []
    },
    {
      "cell_type": "code",
      "metadata": {
        "id": "PvKdenxuO51a"
      },
      "source": [
        "# Examine variable type\n",
        "pokemon.dtypes"
      ],
      "execution_count": null,
      "outputs": []
    },
    {
      "cell_type": "code",
      "metadata": {
        "id": "XuMRX8u9jNCD"
      },
      "source": [
        "# Change categorical variables to \"category\"\n",
        "pokemon['Generation'] = pokemon['Generation'].astype('category')\n",
        "pokemon['Type 1'] = pokemon['Type 1'].astype('category')\n",
        "pokemon['Type 2'] = pokemon['Type 2'].astype('category')\n",
        "pokemon['Legendary'] = pokemon['Legendary'].astype('category')"
      ],
      "execution_count": 12,
      "outputs": []
    },
    {
      "cell_type": "code",
      "metadata": {
        "id": "fU-OPAILP2Xu"
      },
      "source": [
        "# Display all numeric variables\n",
        "pokemon.select_dtypes(include=['number'])"
      ],
      "execution_count": null,
      "outputs": []
    },
    {
      "cell_type": "code",
      "metadata": {
        "id": "Tr4xj_hLQJQE"
      },
      "source": [
        "# Display all categorical variables\n",
        "pokemon.select_dtypes(include=['category'])"
      ],
      "execution_count": null,
      "outputs": []
    },
    {
      "cell_type": "markdown",
      "metadata": {
        "id": "KQVk_x_bNdz2"
      },
      "source": [
        "###2. Understanding a single variable: numeric variables"
      ]
    },
    {
      "cell_type": "code",
      "metadata": {
        "id": "QpZ94IX9ZYu1"
      },
      "source": [
        "# Show the statistics of a numeric variable: Attack\n",
        "pokemon['Attack'].describe()"
      ],
      "execution_count": null,
      "outputs": []
    },
    {
      "cell_type": "code",
      "metadata": {
        "id": "MScuIPreVh8I"
      },
      "source": [
        "# Show the statistics of two numeric variables: HP and Attack\n",
        "pokemon[['HP','Attack']].describe()"
      ],
      "execution_count": null,
      "outputs": []
    },
    {
      "cell_type": "code",
      "metadata": {
        "id": "hr_P_81ARwK9"
      },
      "source": [
        "# obtain the max value of a numeric variable: Attack\n",
        "pokemon['Attack'].max()"
      ],
      "execution_count": null,
      "outputs": []
    },
    {
      "cell_type": "code",
      "metadata": {
        "id": "WUYphfViR5LX"
      },
      "source": [
        "# Find the pokemon with the highest attack value\n",
        "pokemon[pokemon['Attack'] == pokemon['Attack'].max()]"
      ],
      "execution_count": null,
      "outputs": []
    },
    {
      "cell_type": "code",
      "metadata": {
        "id": "pNRPfgQrCUWB"
      },
      "source": [
        "# Obtain rows with one condition (find pokemon with attack value greater than 170)\n",
        "pokemon[pokemon['Attack'] > 170]"
      ],
      "execution_count": null,
      "outputs": []
    },
    {
      "cell_type": "code",
      "metadata": {
        "id": "piqHRM6NS2iM"
      },
      "source": [
        "# Obtain rows with multiple conditions (find pokemon with attack greater than 170 and Defense greater than 150)\n",
        "pokemon[(pokemon['Attack'] > 170) & (pokemon['Defense'] > 150)]"
      ],
      "execution_count": null,
      "outputs": []
    },
    {
      "cell_type": "code",
      "metadata": {
        "id": "3B_36GA0d90o"
      },
      "source": [
        "# Obtain the variance, standard deviation, and range of a numeric varaible: Attack\n",
        "print(\"variance: \", pokemon['Attack'].var(), \"standard deviation: \", pokemon['Attack'].std(), \"range: \", pokemon['Attack'].min(), pokemon['Attack'].max())"
      ],
      "execution_count": null,
      "outputs": []
    },
    {
      "cell_type": "code",
      "metadata": {
        "id": "_q9nbZNmewUU"
      },
      "source": [
        "# IQR of Attack variable\n",
        "IQR = pokemon['Attack'].quantile(0.75) - pokemon['Attack'].quantile(0.25)\n",
        "print(\"IQR:\", IQR)"
      ],
      "execution_count": null,
      "outputs": []
    },
    {
      "cell_type": "code",
      "metadata": {
        "id": "8YRJdR-Y3c-T"
      },
      "source": [
        "# Boxplot of a numeric variable: Attack\n",
        "snsplot = sns.boxplot(x='Attack', data = pokemon)\n",
        "snsplot.set_title(\"Boxplot of Attack in the pokemon data set\")"
      ],
      "execution_count": null,
      "outputs": []
    },
    {
      "cell_type": "code",
      "metadata": {
        "id": "MldWq0X3hqN5"
      },
      "source": [
        "# Boxplot of a numeric variable: Defense\n",
        "snsplot = sns.boxplot(x='Defense', data = pokemon)\n",
        "snsplot.set_title(\"Boxplot of Defense in the pokemon data set\")"
      ],
      "execution_count": null,
      "outputs": []
    },
    {
      "cell_type": "code",
      "metadata": {
        "id": "onaJNVJEh_dW"
      },
      "source": [
        "# Boxplot of Attack of the 1st generation pokemon\n",
        "snsplot = sns.boxplot(x='Attack', data = pokemon[pokemon['Generation']==1])\n",
        "snsplot.set_title(\"Boxplot of Attack of the 1st generation pokemon\")"
      ],
      "execution_count": null,
      "outputs": []
    },
    {
      "cell_type": "code",
      "metadata": {
        "id": "PL0X-dELie6-"
      },
      "source": [
        "# Boxplot of Defense of the 1st generation pokemon\n",
        "snsplot = sns.boxplot(x='Defense', data = pokemon[pokemon['Generation']==1])\n",
        "snsplot.set_title(\"Boxplot of Defense of the 1st generation pokemon\")\n",
        "snsplot.set_xlim([0, 240])"
      ],
      "execution_count": null,
      "outputs": []
    },
    {
      "cell_type": "code",
      "metadata": {
        "id": "pLQmijqwwhyq"
      },
      "source": [
        "# Histogram of a numeric variable: Attack\n",
        "snsplot = sns.histplot(x='Attack', data = pokemon)\n",
        "snsplot.set_title(\"Histogram of Attack in the pokemon data set\")"
      ],
      "execution_count": null,
      "outputs": []
    },
    {
      "cell_type": "code",
      "metadata": {
        "id": "bc6Tr4UswoZ5"
      },
      "source": [
        "# Histogram of a numeric variable: Defense\n",
        "snsplot = sns.histplot(x='Defense', data = pokemon)\n",
        "snsplot.set_title(\"Histogram of Defense in the pokemon data set\")"
      ],
      "execution_count": null,
      "outputs": []
    },
    {
      "cell_type": "markdown",
      "metadata": {
        "id": "QD-B1YRF0IRl"
      },
      "source": [
        "###3. Understanding a single variable: categorical variables"
      ]
    },
    {
      "cell_type": "code",
      "metadata": {
        "id": "pYE3aotm1Db_"
      },
      "source": [
        "# Show the statistics of a categorical variable: Type 1\n",
        "pokemon['Type 1'].describe()"
      ],
      "execution_count": null,
      "outputs": []
    },
    {
      "cell_type": "code",
      "metadata": {
        "id": "KV7s4c0r0dUw"
      },
      "source": [
        "# Show the counts of unique pokemon types\n",
        "pokemon['Type 1'].value_counts()"
      ],
      "execution_count": null,
      "outputs": []
    },
    {
      "cell_type": "code",
      "metadata": {
        "id": "VH21JknC8maV"
      },
      "source": [
        "# Show the proportion of unique pokemon types\n",
        "pokemon['Type 1'].value_counts(normalize=True)"
      ],
      "execution_count": null,
      "outputs": []
    },
    {
      "cell_type": "code",
      "metadata": {
        "id": "80QbSbD21bb4"
      },
      "source": [
        "# Plot a categorical variable: Type 1\n",
        "snsplot = sns.countplot(x='Type 1', data=pokemon)\n",
        "snsplot.set_xticklabels(snsplot.get_xticklabels(), rotation=40, ha=\"right\")\n",
        "snsplot.set_title(\"countplot of Type 1 in the pokemon data set\")"
      ],
      "execution_count": null,
      "outputs": []
    },
    {
      "cell_type": "code",
      "metadata": {
        "id": "PhOO6OscwQkC"
      },
      "source": [
        "# Plot a categorical variable: Legendary\n",
        "snsplot = sns.countplot(x='Legendary', data=pokemon)\n",
        "snsplot.set_title(\"countplot of Legendary in the pokemon data set\")"
      ],
      "execution_count": null,
      "outputs": []
    },
    {
      "cell_type": "markdown",
      "metadata": {
        "id": "oaGt-veI9Iz5"
      },
      "source": [
        "### 4. Understand relationships of multiple variables"
      ]
    },
    {
      "cell_type": "code",
      "metadata": {
        "id": "eB1gyH9577Qu"
      },
      "source": [
        "# scatter plot two numeric variables: Attack and Defense\n",
        "snsplot = sns.scatterplot(x='Attack', y= 'Defense', data=pokemon)\n",
        "snsplot.set_title(\"Scatterplot of Attack and Defense\")"
      ],
      "execution_count": null,
      "outputs": []
    },
    {
      "cell_type": "code",
      "metadata": {
        "id": "qSWoPlvC-oMw"
      },
      "source": [
        "# Generate correlation coefficients of two numeric variables in a 2x2 matrix: Attack and Defense\n",
        "# corr() lies between -1 and 1. zero means no correlation. 1 or -1 indicates full correlation\n",
        "# positive value means positive correlation and negative values mean negative relationships\n",
        "pokemon[['Attack','Defense']].corr()"
      ],
      "execution_count": null,
      "outputs": []
    },
    {
      "cell_type": "code",
      "metadata": {
        "id": "4UswlHixADY7"
      },
      "source": [
        "# Generate the correlation matrix of all numeric variables\n",
        "pokemon[['HP','Attack','Defense','Sp. Atk','Sp. Def','Speed']].corr()\n",
        "pokemon.corr()"
      ],
      "execution_count": null,
      "outputs": []
    },
    {
      "cell_type": "code",
      "metadata": {
        "id": "THtEaXacASmk"
      },
      "source": [
        "# Generate 2D scatter plots\n",
        "sns.pairplot(data = pokemon)"
      ],
      "execution_count": null,
      "outputs": []
    },
    {
      "cell_type": "code",
      "metadata": {
        "id": "ywWOrFNXA2kP"
      },
      "source": [
        "# Examine relationships between numeric and categorical variables: boxplot groups values of a numeric variable based on the values of a categorical variable.\n",
        "snsplot = sns.boxplot(x='Attack', y= 'Type 1', data = pokemon)\n",
        "snsplot.set_title(\"Boxplot of Attack based on pokemon type\")\n",
        "snsplot.set_xlim([0, 200])"
      ],
      "execution_count": null,
      "outputs": []
    },
    {
      "cell_type": "code",
      "metadata": {
        "id": "GH_Ir9cUEM3-"
      },
      "source": [
        "snsplot = sns.boxplot(x='Attack', y= 'Type 1', data = pokemon[pokemon['Legendary']==False])\n",
        "snsplot.set_title(\"Boxplot of Attack based on pokemon type for non-Legendary pokemon\")\n",
        "snsplot.set_xlim([0, 200])"
      ],
      "execution_count": null,
      "outputs": []
    },
    {
      "cell_type": "code",
      "metadata": {
        "id": "625zwx0cDYNc"
      },
      "source": [
        "snsplot = sns.boxplot(x='Attack', y= 'Type 1', data = pokemon[pokemon['Legendary']==True])\n",
        "snsplot.set_title(\"Boxplot of Attack based on pokemon type for Legendary pokemon\")\n",
        "snsplot.set_xlim([0, 200])"
      ],
      "execution_count": null,
      "outputs": []
    },
    {
      "cell_type": "markdown",
      "metadata": {
        "id": "mNBFB2tYGV92"
      },
      "source": [
        "##Part 2: CarAuction Data\n",
        "<br>\n",
        "This dataset contains information of cars purchased at the Auction.<br>\n",
        "<br>\n",
        "VARIABLE DESCRIPTIONS:<br>\n",
        "Auction: Auction provider at which the  vehicle was purchased<br>\n",
        "Color: Vehicle Color<br>\n",
        "IsBadBuy: Identifies if the kicked vehicle was an avoidable purchase<br>\n",
        "MMRCurrentAuctionAveragePrice: Acquisition price for this vehicle in average condition as of current day<br>\n",
        "Size: The size category of the vehicle (Compact, SUV, etc.)<br>\n",
        "TopThreeAmericanName:Identifies if the manufacturer is one of the top three American manufacturers<br>\n",
        "VehBCost: Acquisition cost paid for the vehicle at time of purchase<br>\n",
        "VehicleAge: The Years elapsed since the manufacturer's year<br>\n",
        "VehOdo: The vehicles odometer reading<br>\n",
        "WarrantyCost: Warranty price (term=36month  and millage=36K)<br>\n",
        "WheelType: The vehicle wheel type description (Alloy, Covers)<br>"
      ]
    },
    {
      "cell_type": "markdown",
      "metadata": {
        "id": "D6UCBjrtG-g6"
      },
      "source": [
        "###1. Upload and clean data"
      ]
    },
    {
      "cell_type": "code",
      "metadata": {
        "id": "4db5s5prM1z8"
      },
      "source": [
        "#Import packages\n",
        "import pandas as pd\n",
        "import seaborn as sns"
      ],
      "execution_count": null,
      "outputs": []
    },
    {
      "cell_type": "code",
      "metadata": {
        "id": "Z7vBYMeBG0ZE"
      },
      "source": [
        "# Read data\n",
        "carAuction = pd.read_csv(\"/content/drive/MyDrive/IS470_data/carAuction.csv\")\n",
        "carAuction"
      ],
      "execution_count": null,
      "outputs": []
    },
    {
      "cell_type": "code",
      "metadata": {
        "id": "50BDq5NSNWnt"
      },
      "source": [
        "# Examine the number of rows and cols\n"
      ],
      "execution_count": null,
      "outputs": []
    },
    {
      "cell_type": "code",
      "metadata": {
        "id": "LiI3pabsNeRG"
      },
      "source": [
        "# Show the head rows of a data frame\n"
      ],
      "execution_count": null,
      "outputs": []
    },
    {
      "cell_type": "code",
      "metadata": {
        "id": "GkJ7ihJvOops"
      },
      "source": [
        "# Examine missing values again\n"
      ],
      "execution_count": null,
      "outputs": []
    },
    {
      "cell_type": "code",
      "metadata": {
        "id": "Sxp6-L5nNeRH"
      },
      "source": [
        "# Examine variable type\n"
      ],
      "execution_count": null,
      "outputs": []
    },
    {
      "cell_type": "code",
      "metadata": {
        "id": "0Tdv67wRNeRH"
      },
      "source": [
        "# Change categorical variables to \"category\"\n"
      ],
      "execution_count": null,
      "outputs": []
    },
    {
      "cell_type": "code",
      "metadata": {
        "id": "nj_rBtwNNeRI"
      },
      "source": [
        "# Display all numeric variables\n"
      ],
      "execution_count": null,
      "outputs": []
    },
    {
      "cell_type": "code",
      "metadata": {
        "id": "Q3e7d0vQNeRI"
      },
      "source": [
        "# Display all categorical variables\n"
      ],
      "execution_count": null,
      "outputs": []
    },
    {
      "cell_type": "markdown",
      "metadata": {
        "id": "eOty146JJ5b3"
      },
      "source": [
        "###2. Understanding a single variable: numeric variables"
      ]
    },
    {
      "cell_type": "code",
      "metadata": {
        "id": "cisM2u5TO1vI"
      },
      "source": [
        "# Show the statistics of VehOdo\n"
      ],
      "execution_count": null,
      "outputs": []
    },
    {
      "cell_type": "code",
      "metadata": {
        "id": "9RZDlCAnO1vJ"
      },
      "source": [
        "# Obtain the variance, standard deviation, and range of WarrantyCost\n"
      ],
      "execution_count": null,
      "outputs": []
    },
    {
      "cell_type": "code",
      "metadata": {
        "id": "A9afQglaO1vK"
      },
      "source": [
        "# Display the IQR of WarrantyCost\n"
      ],
      "execution_count": null,
      "outputs": []
    },
    {
      "cell_type": "code",
      "metadata": {
        "id": "RJCsZLiaO1vK"
      },
      "source": [
        "# Boxplot of a numeric variable: VehBCost\n"
      ],
      "execution_count": null,
      "outputs": []
    },
    {
      "cell_type": "code",
      "metadata": {
        "id": "EH8LDN3gO1vK"
      },
      "source": [
        "# Boxplot of a numeric variable: VehicleAge\n"
      ],
      "execution_count": null,
      "outputs": []
    },
    {
      "cell_type": "code",
      "metadata": {
        "id": "4eE0QUyqO1vL"
      },
      "source": [
        "# Histogram of a numeric variable: VehOdo\n"
      ],
      "execution_count": null,
      "outputs": []
    },
    {
      "cell_type": "markdown",
      "metadata": {
        "id": "ogdGMqz6J8ct"
      },
      "source": [
        "###3. Understanding a single variable: categorical variables"
      ]
    },
    {
      "cell_type": "code",
      "metadata": {
        "id": "JLMdEmJpQ8DE"
      },
      "source": [
        "# Display the number of cars in different WheelType\n"
      ],
      "execution_count": null,
      "outputs": []
    },
    {
      "cell_type": "code",
      "metadata": {
        "id": "W0S15GeqRc7E"
      },
      "source": [
        "# Disply the proportion of cars in different WheelType\n"
      ],
      "execution_count": null,
      "outputs": []
    },
    {
      "cell_type": "code",
      "metadata": {
        "id": "-haWBLe8RdkD"
      },
      "source": [
        "# Plot a categorical variable: WheelType\n"
      ],
      "execution_count": null,
      "outputs": []
    },
    {
      "cell_type": "markdown",
      "metadata": {
        "id": "axTcyZgyKBYP"
      },
      "source": [
        "### 4. Understand relationships of multiple variables"
      ]
    },
    {
      "cell_type": "code",
      "metadata": {
        "id": "Mr8IPCIjR8AP"
      },
      "source": [
        "# scatter plot two numeric variables: VehBCost and MMRCurrentAuctionAveragePrice\n"
      ],
      "execution_count": null,
      "outputs": []
    },
    {
      "cell_type": "code",
      "metadata": {
        "id": "6NiNOmvFR8AQ"
      },
      "source": [
        "# Generate correlation coefficients of two numeric variables in a 2x2 matrix: VehBCost and MMRCurrentAuctionAveragePrice\n"
      ],
      "execution_count": null,
      "outputs": []
    },
    {
      "cell_type": "code",
      "metadata": {
        "id": "3k_QaE6IR8AQ"
      },
      "source": [
        "# Generate the correlation matrix of all numeric variables\n"
      ],
      "execution_count": null,
      "outputs": []
    },
    {
      "cell_type": "code",
      "metadata": {
        "id": "x-MSrnfsR8AQ"
      },
      "source": [
        "# Examine relationships between numeric and categorical variables: boxplot VehBCost based on IsBadBuy\n"
      ],
      "execution_count": null,
      "outputs": []
    },
    {
      "cell_type": "markdown",
      "metadata": {
        "id": "WXh8RAYLVxIr"
      },
      "source": [
        "Question: list one thing you learned from the carAuction data exploration.<br>\n",
        "Double-click to enter your answer. "
      ]
    },
    {
      "cell_type": "code",
      "metadata": {
        "id": "MNRp8uoa-0g0"
      },
      "source": [
        "!jupyter nbconvert --to html \"/content/drive/MyDrive/IS470_lab/IS470_lab2.ipynb\""
      ],
      "execution_count": null,
      "outputs": []
    }
  ]
}
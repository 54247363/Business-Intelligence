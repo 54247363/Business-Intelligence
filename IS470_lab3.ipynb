{
  "nbformat": 4,
  "nbformat_minor": 0,
  "metadata": {
    "colab": {
      "provenance": [],
      "collapsed_sections": [],
      "toc_visible": true
    },
    "kernelspec": {
      "name": "python3",
      "display_name": "Python 3"
    },
    "language_info": {
      "name": "python"
    }
  },
  "cells": [
    {
      "cell_type": "markdown",
      "metadata": {
        "id": "_YEHhu06X2im"
      },
      "source": [
        "#IS 470 Lab 3: Decision Tree\n",
        "\n",
        "---"
      ]
    },
    {
      "cell_type": "markdown",
      "metadata": {
        "id": "6jFjFMqAX-yp"
      },
      "source": [
        "This data set contains information of cars purchased at the Auction.\n",
        "<br>\n",
        "We will use this file to predict the quality of buying decisions and visualize decision processes.\n",
        "<br>\n",
        "<br>\n",
        "VARIABLE DESCRIPTIONS:<br>\n",
        "Auction: Auction provider at which the  vehicle was purchased<br>\n",
        "Color: Vehicle Color<br>\n",
        "IsBadBuy: Identifies if the kicked vehicle was an avoidable purchase<br>\n",
        "MMRCurrentAuctionAveragePrice: Acquisition price for this vehicle in average condition as of current day<br>\n",
        "Size: The size category of the vehicle (Compact, SUV, etc.)<br>\n",
        "TopThreeAmericanName:Identifies if the manufacturer is one of the top three American manufacturers<br>\n",
        "VehBCost: Acquisition cost paid for the vehicle at time of purchase<br>\n",
        "VehicleAge: The Years elapsed since the manufacturer's year<br>\n",
        "VehOdo: The vehicles odometer reading<br>\n",
        "WarrantyCost: Warranty price (term=36month  and millage=36K)<br>\n",
        "WheelType: The vehicle wheel type description (Alloy, Covers)<br>\n",
        "<br>\n",
        "Target variable: **IsBadBuy**"
      ]
    },
    {
      "cell_type": "markdown",
      "metadata": {
        "id": "D6UCBjrtG-g6"
      },
      "source": [
        "###1. Upload and clean data"
      ]
    },
    {
      "cell_type": "code",
      "metadata": {
        "id": "nkqDo5OuHCQ8"
      },
      "source": [
        "# Mounting Google Drive\n",
        "from google.colab import drive\n",
        "drive.mount('/content/drive')"
      ],
      "execution_count": null,
      "outputs": []
    },
    {
      "cell_type": "code",
      "metadata": {
        "id": "4db5s5prM1z8"
      },
      "source": [
        "# Import libraries\n",
        "import pandas as pd\n",
        "from sklearn.model_selection import train_test_split\n",
        "from matplotlib import pyplot as plt\n",
        "from sklearn import tree\n",
        "from sklearn.tree import DecisionTreeClassifier\n",
        "from sklearn.metrics import plot_confusion_matrix\n",
        "from sklearn.metrics import classification_report"
      ],
      "execution_count": 2,
      "outputs": []
    },
    {
      "cell_type": "code",
      "metadata": {
        "id": "Z7vBYMeBG0ZE"
      },
      "source": [
        "# Read data\n",
        "carAuction = pd.read_csv(\"/content/drive/MyDrive/IS470_data/carAuction.csv\")\n",
        "carAuction"
      ],
      "execution_count": null,
      "outputs": []
    },
    {
      "cell_type": "code",
      "metadata": {
        "id": "LiI3pabsNeRG"
      },
      "source": [
        "# Show the head rows of a data frame\n",
        "carAuction.head()"
      ],
      "execution_count": null,
      "outputs": []
    },
    {
      "cell_type": "code",
      "metadata": {
        "id": "Sxp6-L5nNeRH"
      },
      "source": [
        "# Examine variable type\n",
        "carAuction.dtypes"
      ],
      "execution_count": null,
      "outputs": []
    },
    {
      "cell_type": "code",
      "metadata": {
        "id": "0Tdv67wRNeRH"
      },
      "source": [
        "# Change categorical variables to \"category\"\n",
        "carAuction['Auction'] = carAuction['Auction'].astype('category')\n",
        "carAuction['Color'] = carAuction['Color'].astype('category')\n",
        "carAuction['IsBadBuy'] = carAuction['IsBadBuy'].astype('category')\n",
        "carAuction['Size'] = carAuction['Size'].astype('category')\n",
        "carAuction['TopThreeAmericanName'] = carAuction['TopThreeAmericanName'].astype('category')\n",
        "carAuction['WheelType'] = carAuction['WheelType'].astype('category')"
      ],
      "execution_count": null,
      "outputs": []
    },
    {
      "cell_type": "code",
      "metadata": {
        "id": "UPWSMKGRpWAj"
      },
      "source": [
        "# Examine variable type\n",
        "carAuction.dtypes"
      ],
      "execution_count": null,
      "outputs": []
    },
    {
      "cell_type": "markdown",
      "metadata": {
        "id": "a3baHs-sknIT"
      },
      "source": [
        "###2. Partition the data set for Decision Tree model"
      ]
    },
    {
      "cell_type": "code",
      "metadata": {
        "id": "PGheFILukrMR"
      },
      "source": [
        "# Create dummy variables\n"
      ],
      "execution_count": null,
      "outputs": []
    },
    {
      "cell_type": "code",
      "metadata": {
        "id": "UfxzlCPBnZ-4"
      },
      "source": [
        "# Partition the data\n"
      ],
      "execution_count": null,
      "outputs": []
    },
    {
      "cell_type": "code",
      "metadata": {
        "id": "j6Y5U91BoVmf"
      },
      "source": [
        "# Examine the porportion of target variable for training data set\n"
      ],
      "execution_count": null,
      "outputs": []
    },
    {
      "cell_type": "code",
      "metadata": {
        "id": "MasSsm8apCG-"
      },
      "source": [
        "# Examine the porportion of target variable for testing data set\n"
      ],
      "execution_count": null,
      "outputs": []
    },
    {
      "cell_type": "markdown",
      "metadata": {
        "id": "xt0XU6fmplzw"
      },
      "source": [
        "## 3. Decision Tree model prediction"
      ]
    },
    {
      "cell_type": "code",
      "metadata": {
        "id": "yi8FlSIQpB_X"
      },
      "source": [
        "# Build a decision tree model on training data with max_depth = 2\n"
      ],
      "execution_count": null,
      "outputs": []
    },
    {
      "cell_type": "code",
      "metadata": {
        "id": "2A9YDvIGp5KJ"
      },
      "source": [
        "# Plot the tree\n"
      ],
      "execution_count": null,
      "outputs": []
    },
    {
      "cell_type": "code",
      "metadata": {
        "id": "1TS1FMtdtdlQ"
      },
      "source": [
        "# Text version of decision tree\n"
      ],
      "execution_count": null,
      "outputs": []
    },
    {
      "cell_type": "markdown",
      "metadata": {
        "id": "J52hUfwmzTns"
      },
      "source": [
        "Q1. How many decision nodes and how many leaf nodes are in the tree?<br>\n"
      ]
    },
    {
      "cell_type": "markdown",
      "metadata": {
        "id": "VKlc6vX60yQ8"
      },
      "source": [
        "Q2. Compare to a decision tree with 7 decision nodes and 8 leaf nodes, is it more or less complex? Give reasons for your answer.<br>\n"
      ]
    },
    {
      "cell_type": "markdown",
      "metadata": {
        "id": "DUnA9v16z0Ta"
      },
      "source": [
        "Q3. What is the predictor that first splits the tree? How the decision tree selects the first predictor to split?<br>\n"
      ]
    },
    {
      "cell_type": "markdown",
      "metadata": {
        "id": "yV_fZfEgz9kt"
      },
      "source": [
        "Q4. Find one path in the tree to a leaf node that is classified to IsBadBuy = 'Yes'. What is this path/rule's misclassification error rate?<br>\n"
      ]
    },
    {
      "cell_type": "code",
      "metadata": {
        "id": "s3BPoqH0tuDd"
      },
      "source": [
        "# Make predictions on testing data\n"
      ],
      "execution_count": null,
      "outputs": []
    },
    {
      "cell_type": "code",
      "metadata": {
        "id": "Mp2hbRzywpGd"
      },
      "source": [
        "# Examine the evaluation results on testing data: confusion_matrix\n"
      ],
      "execution_count": null,
      "outputs": []
    },
    {
      "cell_type": "markdown",
      "metadata": {
        "id": "kVT5kkDQ1aen"
      },
      "source": [
        "Q5. On the testing set, how many bad buy cars are predicted as Not bad buy?<br>\n"
      ]
    },
    {
      "cell_type": "code",
      "metadata": {
        "id": "JnI7ioz-xBN0"
      },
      "source": [
        "# Examine the evaluation results on testing data: accuracy, precision, recall, and f1-score\n"
      ],
      "execution_count": null,
      "outputs": []
    },
    {
      "cell_type": "markdown",
      "metadata": {
        "id": "ahgldnbVzVuI"
      },
      "source": [
        "Q6. Does the decision tree model have better performance on majority (IsBadBuy = 'No') or minority class (IsBadBuy = 'Yes')? why? <br>\n",
        "\n"
      ]
    },
    {
      "cell_type": "code",
      "metadata": {
        "id": "MNRp8uoa-0g0"
      },
      "source": [
        "!jupyter nbconvert --to html \"/content/drive/MyDrive/IS470_lab/IS470_lab3.ipynb\""
      ],
      "execution_count": null,
      "outputs": []
    }
  ]
}
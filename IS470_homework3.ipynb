{
  "nbformat": 4,
  "nbformat_minor": 0,
  "metadata": {
    "colab": {
      "provenance": [],
      "toc_visible": true
    },
    "kernelspec": {
      "name": "python3",
      "display_name": "Python 3"
    },
    "language_info": {
      "name": "python"
    }
  },
  "cells": [
    {
      "cell_type": "markdown",
      "metadata": {
        "id": "cRS1sr2oHxhv"
      },
      "source": [
        "#IS 470 Homework3\n",
        "\n",
        "---"
      ]
    },
    {
      "cell_type": "markdown",
      "metadata": {
        "id": "npQDL8lSH714"
      },
      "source": [
        "# Regressions and BlackBox Methods\n"
      ]
    },
    {
      "cell_type": "markdown",
      "metadata": {
        "id": "HRY31HlxiAhU"
      },
      "source": [
        "## Part 1. Classification with BartRider data <br>\n",
        "You have been given a data file by the San Francisco Bay Area Rapid Transit (BART), which identifies a set of demographics for residents in a local area. We will use this file to determine if a resident is a rider.\n",
        "<br><br>\n",
        "VARIABLE DESCRIPTIONS:<br>\n",
        "<br>\n",
        "Age:  \n",
        "\n",
        "            1.   14 thru 17\n",
        "            2.   18 thru 24\n",
        "            3.   25 thru 34\n",
        "            4.   35 thru 44\n",
        "            5.   45 thru 54\n",
        "            6.   55 thru 64\n",
        "            7.   65 and Over\n",
        "\n",
        "DistToWork: Distance to work in miles<br>\n",
        "DualInc: Is dual income household or not<br>\n",
        "Education:  \n",
        "            \n",
        "            1. Grade 8 or less<br>\n",
        "            2. Grades 9 to 11<br>\n",
        "            3. Graduated high school<br>\n",
        "            4. 1 to 3 years of college<br>\n",
        "            5. College graduate<br>\n",
        "            6. Grad Study<br>\n",
        "Gender:\tM or F<br>\n",
        "Income: \n",
        "        \n",
        "            1. Less than $10,000<br>\n",
        "            2. $10,000 to $14,999<br>\n",
        "            3. $15,000 to $19,999<br>\n",
        "            4. $20,000 to $24,999<br>\n",
        "            5. $25,000 to $29,999<br>\n",
        "            6. $30,000 to $39,999<br>\n",
        "            7. $40,000 to $49,999<br>\n",
        "            8. $50,000 to $74,999<br>\n",
        "            9. $75,000 or more<br>\n",
        "Language:\tLanguage spoken at home<br>\n",
        "NbrInHouseHold:\tNumber in household<br>\n",
        "NbrInHouseholdUnder18:\tNumber in household under 18 years old<br>\n",
        "OwnRent:\tOwn, rent, or live with parents<br>\n",
        "YrsInArea:\tYears lived in bay area<br>\n",
        "Rider:\tNo, Non-rider; Yes, Rider<br>\n",
        "<br>\n",
        "**Target variable: Rider**"
      ]
    },
    {
      "cell_type": "markdown",
      "metadata": {
        "id": "oX6Nz3vgIzg4"
      },
      "source": [
        "### 1.Upload and clean data"
      ]
    },
    {
      "cell_type": "code",
      "metadata": {
        "id": "6j99MpIsHPf7"
      },
      "source": [
        "# Mounting Google Drive\n",
        "from google.colab import drive\n",
        "drive.mount('/content/drive')"
      ],
      "execution_count": null,
      "outputs": []
    },
    {
      "cell_type": "code",
      "metadata": {
        "id": "4FM3FiCKJjpg"
      },
      "source": [
        "# Import libraries\n",
        "import pandas as pd\n",
        "import seaborn as sns\n",
        "from sklearn import preprocessing\n",
        "from sklearn.model_selection import train_test_split\n",
        "from sklearn.svm import SVR\n",
        "from sklearn import linear_model\n",
        "from sklearn.neural_network import MLPRegressor\n",
        "from sklearn.metrics import mean_squared_error\n",
        "from sklearn.metrics import mean_absolute_error\n",
        "from sklearn.svm import SVC\n",
        "from sklearn.neural_network import MLPClassifier\n",
        "from matplotlib import pyplot as plt\n",
        "from sklearn.metrics import confusion_matrix, ConfusionMatrixDisplay\n",
        "from sklearn.metrics import classification_report"
      ],
      "execution_count": null,
      "outputs": []
    },
    {
      "cell_type": "code",
      "metadata": {
        "id": "V-IiU92JI6Sf"
      },
      "source": [
        "# Read data\n",
        "BartRider = pd.read_csv('/content/drive/MyDrive/IS470_data/BartRider.csv')\n",
        "BartRider"
      ],
      "execution_count": null,
      "outputs": []
    },
    {
      "cell_type": "code",
      "metadata": {
        "id": "O2MctaG4JR-9"
      },
      "source": [
        "# Examine the number of rows and cols\n",
        "BartRider.shape"
      ],
      "execution_count": null,
      "outputs": []
    },
    {
      "cell_type": "code",
      "metadata": {
        "id": "PvKdenxuO51a"
      },
      "source": [
        "# Examine variable type\n",
        "BartRider.dtypes"
      ],
      "execution_count": null,
      "outputs": []
    },
    {
      "cell_type": "code",
      "metadata": {
        "id": "XuMRX8u9jNCD"
      },
      "source": [
        "# Change categorical variables to \"category\"\n",
        "BartRider['DualInc'] = BartRider['DualInc'].astype('category')\n",
        "BartRider['Gender'] = BartRider['Gender'].astype('category')\n",
        "BartRider['Language'] = BartRider['Language'].astype('category')\n",
        "BartRider['OwnRent'] = BartRider['OwnRent'].astype('category')\n",
        "BartRider['Rider'] = BartRider['Rider'].astype('category')"
      ],
      "execution_count": null,
      "outputs": []
    },
    {
      "cell_type": "code",
      "metadata": {
        "id": "OH63bmlnOXyP"
      },
      "source": [
        "# Examine variable type again\n",
        "BartRider.dtypes"
      ],
      "execution_count": null,
      "outputs": []
    },
    {
      "cell_type": "markdown",
      "metadata": {
        "id": "KQVk_x_bNdz2"
      },
      "source": [
        "### 2.Data partitioning and inspection code (7 points)"
      ]
    },
    {
      "cell_type": "code",
      "metadata": {
        "id": "Imb70iZunQn6"
      },
      "source": [
        "# Create dummy variables for DualInc, Gender, Language, and OwnRent\t(1 points)\n"
      ],
      "execution_count": null,
      "outputs": []
    },
    {
      "cell_type": "code",
      "metadata": {
        "id": "zimUYZTkj5IR"
      },
      "source": [
        "# Define target variable and predictors (1 point)\n",
        "\n",
        "\n",
        "# Apply minmax normalization on predictors (1 points)\n",
        "\n",
        "\n",
        "\n"
      ],
      "execution_count": null,
      "outputs": []
    },
    {
      "cell_type": "code",
      "metadata": {
        "id": "Chc0-7jRnpC9"
      },
      "source": [
        "# Partition the normalized data to predictors_train, predictors_test, target_train, and target_test. Set test_size=0.3 and random_state=0. (2 points)\n"
      ],
      "execution_count": null,
      "outputs": []
    },
    {
      "cell_type": "code",
      "metadata": {
        "id": "Yh0UG362n_OR"
      },
      "source": [
        "# Examine the proportion of target variable for training data set (using the value_counts function) (1 point)\n"
      ],
      "execution_count": null,
      "outputs": []
    },
    {
      "cell_type": "code",
      "metadata": {
        "id": "mG7B2tlmoI0-"
      },
      "source": [
        "# Examine the proportion of target variable for testing data set (using the value_counts function) (1 point)\n"
      ],
      "execution_count": null,
      "outputs": []
    },
    {
      "cell_type": "markdown",
      "metadata": {
        "id": "u-iAdXvGNU5I"
      },
      "source": [
        "### 3.Neural Network for classification (5 points)"
      ]
    },
    {
      "cell_type": "code",
      "metadata": {
        "id": "YcKXGfbRoQqq"
      },
      "source": [
        "# Build a MLP model contains three hidden layers: 16 hidden nodes for the first layer, 8 hidden nodes for the second layer, and 8 hidden nodes for the third layer. Set random_state=1. (2 points)\n"
      ],
      "execution_count": null,
      "outputs": []
    },
    {
      "cell_type": "code",
      "metadata": {
        "id": "tK1-Id8gqrCT"
      },
      "source": [
        "# Make predictions on testing data (1 point)\n"
      ],
      "execution_count": null,
      "outputs": []
    },
    {
      "cell_type": "code",
      "metadata": {
        "id": "x9ZrPmoyqxb4"
      },
      "source": [
        "# Examine the evaluation results on testing data: confusion_matrix (1 point)\n"
      ],
      "execution_count": null,
      "outputs": []
    },
    {
      "cell_type": "code",
      "metadata": {
        "id": "gwLf9ADCq197"
      },
      "source": [
        "# Examine the evaluation results on testing data: accuracy, precision, recall, and f1-score (1 point)\n"
      ],
      "execution_count": null,
      "outputs": []
    },
    {
      "cell_type": "markdown",
      "metadata": {
        "id": "JFGJHozS_PFR"
      },
      "source": [
        "### 4.SVM for classification (6 points)"
      ]
    },
    {
      "cell_type": "code",
      "metadata": {
        "id": "YRUjzm9Z_PFZ"
      },
      "source": [
        "# Build a SVM model with C=1 (2 points)\n"
      ],
      "execution_count": null,
      "outputs": []
    },
    {
      "cell_type": "code",
      "metadata": {
        "id": "_mvw__pG_PFa"
      },
      "source": [
        "# Make predictions on testing data (1 point)\n"
      ],
      "execution_count": null,
      "outputs": []
    },
    {
      "cell_type": "code",
      "metadata": {
        "id": "rBdeNFhg_PFa"
      },
      "source": [
        "# Examine the evaluation results on testing data: confusion_matrix (1 point)\n"
      ],
      "execution_count": null,
      "outputs": []
    },
    {
      "cell_type": "code",
      "metadata": {
        "id": "RpM26331_PFa"
      },
      "source": [
        "# Examine the evaluation results on testing data: accuracy, precision, recall, and f1-score (1 point)\n"
      ],
      "execution_count": null,
      "outputs": []
    },
    {
      "cell_type": "markdown",
      "metadata": {
        "id": "eW5H5hti_PFa"
      },
      "source": [
        "Q1. Which model has better performance, SVM or MLP? (1 points)<br>\n"
      ]
    },
    {
      "cell_type": "markdown",
      "metadata": {
        "id": "8EA7j1BPAjQ_"
      },
      "source": [
        "## Part 2. Numeric Prediction with Game Sale data <br>\n",
        "Video games are a billion-dollar business and have been for many years. In 2016, the video game market in the United States was valued at 17.68 billion U.S. dollars. That same year U.S. consumers were said to spend roughly double the amount on gaming content, hardware and accessories. What is important is that the first generation of gamers is now grown up with significant spending power; therefore, despite high penetration rates among kids, video games can no longer be considered solely a child's play. In fact, it was found that video gaming is gaining on popularity among the seniors in the United States.<br>\n",
        "<br>\n",
        "This data provides video sales information together with game scores and ratings. Our task is to predict game sales by given the information of each game.\n",
        "<br><br>\n",
        "VARIABLE DESCRIPTIONS:<br>\n",
        "<br>\n",
        "Name: Game name<br>\n",
        "Platform: Platform of the games release (i.e. PC,PS4, etc.)<br>\n",
        "Genre: Genre of the game<br>\n",
        "Global_Sales: Total worldwide sales (in millions)<br>\n",
        "Critic_Score: Aggregate score compiled by Metacritic staff<br>\n",
        "Critic_Count: The number of critics used in coming up with the Critic_score <br>\n",
        "User_Score: Score by Metacritic's subscribers<br>\n",
        "User_Count: Number of users who gave the user_score<br>\n",
        "Rating: The ESRB ratings<br>\n",
        "<br>\n",
        "**Target variable: Global_Sales**"
      ]
    },
    {
      "cell_type": "markdown",
      "metadata": {
        "id": "cG08ImsJAjRA"
      },
      "source": [
        "### 1.Upload and clean data (1 point)"
      ]
    },
    {
      "cell_type": "code",
      "metadata": {
        "id": "fqn9qpuWAjRA"
      },
      "source": [
        "# Import libraries\n",
        "import pandas as pd\n",
        "import seaborn as sns\n",
        "from sklearn import preprocessing\n",
        "from sklearn.model_selection import train_test_split\n",
        "from sklearn.svm import SVR\n",
        "from sklearn import linear_model\n",
        "from sklearn.neural_network import MLPRegressor\n",
        "from sklearn.metrics import mean_squared_error\n",
        "from sklearn.metrics import mean_absolute_error\n",
        "from sklearn.svm import SVC\n",
        "from sklearn.neural_network import MLPClassifier\n",
        "from matplotlib import pyplot as plt\n",
        "from sklearn.metrics import classification_report"
      ],
      "execution_count": null,
      "outputs": []
    },
    {
      "cell_type": "code",
      "metadata": {
        "id": "uxeyoY2oAjRB"
      },
      "source": [
        "# Read data\n",
        "Sales = pd.read_csv('/content/drive/MyDrive/IS470_data/sales.csv')\n",
        "Sales"
      ],
      "execution_count": null,
      "outputs": []
    },
    {
      "cell_type": "code",
      "metadata": {
        "id": "2jlS2wFaAjRB"
      },
      "source": [
        "# Examine the number of rows and cols\n",
        "Sales.shape"
      ],
      "execution_count": null,
      "outputs": []
    },
    {
      "cell_type": "code",
      "metadata": {
        "id": "JgMTrAWlBXe_"
      },
      "source": [
        "# Drop (remove) the Name column\n",
        "Sales = Sales.drop(['Name'],axis=1)"
      ],
      "execution_count": null,
      "outputs": []
    },
    {
      "cell_type": "markdown",
      "metadata": {
        "id": "JwYUG6_jByNX"
      },
      "source": [
        "**Q2. Explain why we should remove the name column? (1 point)**<br>\n"
      ]
    },
    {
      "cell_type": "code",
      "metadata": {
        "id": "OYVNUxETAjRB"
      },
      "source": [
        "# Examine variable type\n",
        "Sales.dtypes"
      ],
      "execution_count": null,
      "outputs": []
    },
    {
      "cell_type": "code",
      "metadata": {
        "id": "_GjfhledAjRB"
      },
      "source": [
        "# Change categorical variables to \"category\"\n",
        "Sales['Platform'] = Sales['Platform'].astype('category')\n",
        "Sales['Genre'] = Sales['Genre'].astype('category')\n",
        "Sales['Rating'] = Sales['Rating'].astype('category')"
      ],
      "execution_count": null,
      "outputs": []
    },
    {
      "cell_type": "code",
      "metadata": {
        "id": "n7WzcAVPAjRB"
      },
      "source": [
        "# Examine variable type again\n",
        "Sales.dtypes"
      ],
      "execution_count": null,
      "outputs": []
    },
    {
      "cell_type": "markdown",
      "metadata": {
        "id": "8EE0BSD2AjRB"
      },
      "source": [
        "### 2.Data partitioning and inspection code (7 points)"
      ]
    },
    {
      "cell_type": "code",
      "metadata": {
        "id": "s16IvQi0AjRC"
      },
      "source": [
        "# Create dummy variables for Platform, Genre, and Rating\t(2 points)\n"
      ],
      "execution_count": null,
      "outputs": []
    },
    {
      "cell_type": "code",
      "metadata": {
        "id": "SwR7cta3AjRC"
      },
      "source": [
        "# Partition the data to predictors_train, predictors_test, target_train, and target_test. Set test_size=0.3 and random_state=0. (3 points)\n",
        "\n",
        "\n"
      ],
      "execution_count": null,
      "outputs": []
    },
    {
      "cell_type": "code",
      "metadata": {
        "id": "8MpYVccPAjRC"
      },
      "source": [
        "# Examine the distribution of target variable for training data set (using the histplot function). (1 point)\n"
      ],
      "execution_count": null,
      "outputs": []
    },
    {
      "cell_type": "code",
      "metadata": {
        "id": "egk4IPQgAjRC"
      },
      "source": [
        "# Examine the distribution of target variable for testing data set (using the histplot function). (1 point)\n"
      ],
      "execution_count": null,
      "outputs": []
    },
    {
      "cell_type": "markdown",
      "metadata": {
        "id": "2auXlI4SqlTu"
      },
      "source": [
        "### 3.Multiple Linear Regression model for predicting Global_Sales value. (11 points)"
      ]
    },
    {
      "cell_type": "code",
      "metadata": {
        "id": "Du9wrpzzqsi3"
      },
      "source": [
        "# Build a multiple linear regression model with all predictors (2 points)\n"
      ],
      "execution_count": null,
      "outputs": []
    },
    {
      "cell_type": "code",
      "metadata": {
        "id": "dehMT4PSrGM3"
      },
      "source": [
        "# Show the linear regression model summary (1 point)\n",
        "import statsmodels.api as sm\n",
        "X2 = sm.add_constant(predictors_train)\n",
        "y = target_train\n",
        "est = sm.OLS(y, X2)\n",
        "est2 = est.fit()\n",
        "print(est2.summary())"
      ],
      "execution_count": null,
      "outputs": []
    },
    {
      "cell_type": "markdown",
      "metadata": {
        "id": "cGwa1KQ1tQu6"
      },
      "source": [
        "Q3. If Critic_Score is increased by 1 (and all the other variable values are held constant), Global_Sales will increase __?__ millions. (1 point)<br>"
      ]
    },
    {
      "cell_type": "markdown",
      "metadata": {
        "id": "0BnnTFE-ti5j"
      },
      "source": [
        "Q4. If Critic_Count is increased by 1 (and all the other variable values are held constant), Global_Sales will increase __?__ millions. (1 point)<br>"
      ]
    },
    {
      "cell_type": "markdown",
      "metadata": {
        "id": "J11xHvLJtrWD"
      },
      "source": [
        "Q5. Are User_Score and User_Count important for predicting Global_Sales, and why? hint: using the p-value to determine the importance. (2 points)<br>"
      ]
    },
    {
      "cell_type": "markdown",
      "metadata": {
        "id": "fzmQZPPGt8d3"
      },
      "source": [
        "Q6. What is the value of Multiple R-squared? Interpret the meaning of Multiple R-squared value. (2 points)<br>"
      ]
    },
    {
      "cell_type": "code",
      "metadata": {
        "id": "1WGz66v_uFx8"
      },
      "source": [
        "# Make predictions on testing data (1 point)\n"
      ],
      "execution_count": null,
      "outputs": []
    },
    {
      "cell_type": "code",
      "metadata": {
        "id": "Is5cI6yUuL88"
      },
      "source": [
        "# Examine the evaluation results on testing data: MAE and RMSE (1 point)\n"
      ],
      "execution_count": null,
      "outputs": []
    },
    {
      "cell_type": "markdown",
      "metadata": {
        "id": "9lm8fZM9AjRC"
      },
      "source": [
        "### 4.Neural Network for numeric prediction (5 points)"
      ]
    },
    {
      "cell_type": "code",
      "metadata": {
        "id": "5ilUWEGvuu5x"
      },
      "source": [
        "# Apply minmax normalization on predictors and partition the data.\n",
        "min_max_scaler = preprocessing.MinMaxScaler()\n",
        "predictors_normalized = pd.DataFrame(min_max_scaler.fit_transform(predictors))\n",
        "predictors_normalized.columns = predictors.columns\n",
        "predictors_train, predictors_test, target_train, target_test = train_test_split(predictors, target, test_size=0.3, random_state=0)\n",
        "print(predictors_train.shape, predictors_test.shape, target_train.shape, target_test.shape)"
      ],
      "execution_count": null,
      "outputs": []
    },
    {
      "cell_type": "code",
      "metadata": {
        "id": "b-OtcgzFAjRD"
      },
      "source": [
        "# Build a MLP model with your choice of hidden layers and hidden nodes. Your MLP model need to have a better performance than the multiple linear regression model. (3 point)\n"
      ],
      "execution_count": null,
      "outputs": []
    },
    {
      "cell_type": "code",
      "metadata": {
        "id": "VL-frxG8AjRD"
      },
      "source": [
        "# Make predictions on testing data (1 point)\n"
      ],
      "execution_count": null,
      "outputs": []
    },
    {
      "cell_type": "code",
      "metadata": {
        "id": "V3qK1kYCAjRD"
      },
      "source": [
        "# Examine the evaluation results on testing data: MAE and RMSE (1 point)\n"
      ],
      "execution_count": null,
      "outputs": []
    },
    {
      "cell_type": "markdown",
      "metadata": {
        "id": "8-a85U5dAjRD"
      },
      "source": [
        "### 5.SVM for numeric prediction (8 points)"
      ]
    },
    {
      "cell_type": "code",
      "metadata": {
        "id": "YH31t0ovAjRD"
      },
      "source": [
        "# Build a SVM model with C = 100. (2 points)\n"
      ],
      "execution_count": null,
      "outputs": []
    },
    {
      "cell_type": "code",
      "metadata": {
        "id": "kdFjzuYOAjRD"
      },
      "source": [
        "# Make predictions on testing data (1 point)\n"
      ],
      "execution_count": null,
      "outputs": []
    },
    {
      "cell_type": "code",
      "metadata": {
        "id": "7mo6X7qCAjRE"
      },
      "source": [
        "# Examine the evaluation results on testing data: MAE and RMSE (1 point)\n"
      ],
      "execution_count": null,
      "outputs": []
    },
    {
      "cell_type": "markdown",
      "metadata": {
        "id": "6Gff7_zxAjRE"
      },
      "source": [
        "Q7. Assume that you will lose each dollar your model's prediction misses due to an over-estimation or under-estimation. Which evaluation metric you should use? (1 point)<br>\n",
        "Based on your choice of evaluation metric, which model has better performance, SVM or MLP? (1 point)<br>"
      ]
    },
    {
      "cell_type": "markdown",
      "metadata": {
        "id": "VAzNmYmv19G1"
      },
      "source": [
        "Q8. Assume that the penalty for an erroneous prediction increases with the difference between the actual and predicted values. Which evaluation metric you should use? (1 point)<br>\n",
        "Based on your choice of evaluation metric, which model has better performance, SVM or MLP? (1 point)<br>"
      ]
    },
    {
      "cell_type": "code",
      "metadata": {
        "id": "4kE4Su0aAjRE"
      },
      "source": [
        "!jupyter nbconvert --to html \"/content/drive/MyDrive/IS470_lab/IS470_homework3.ipynb\""
      ],
      "execution_count": null,
      "outputs": []
    }
  ]
}
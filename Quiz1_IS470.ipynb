{
  "nbformat": 4,
  "nbformat_minor": 0,
  "metadata": {
    "colab": {
      "provenance": [],
      "collapsed_sections": [],
      "toc_visible": true
    },
    "kernelspec": {
      "name": "python3",
      "display_name": "Python 3"
    },
    "language_info": {
      "name": "python"
    }
  },
  "cells": [
    {
      "cell_type": "markdown",
      "metadata": {
        "id": "cRS1sr2oHxhv"
      },
      "source": [
        "#IS 470 QUIZ 1\n",
        "\n",
        "---"
      ]
    },
    {
      "cell_type": "markdown",
      "metadata": {
        "id": "npQDL8lSH714"
      },
      "source": [
        "## BartRider Classification\n",
        "<br>\n",
        "You have been given a data file by the San Francisco Bay Area Rapid Transit (BART), which identifies a set of demographics for residents in a local area. We will use this file to determine if a resident is a rider.\n",
        "<br><br>\n",
        "VARIABLE DESCRIPTIONS:<br>\n",
        "<br>\n",
        "Age:  \n",
        "\n",
        "            1.   14 thru 17\n",
        "            2.   18 thru 24\n",
        "            3.   25 thru 34\n",
        "            4.   35 thru 44\n",
        "            5.   45 thru 54\n",
        "            6.   55 thru 64\n",
        "            7.   65 and Over\n",
        "\n",
        "DistToWork: Distance to work in miles<br>\n",
        "DualInc: Is dual income household or not<br>\n",
        "Education:  \n",
        "            \n",
        "            1. Grade 8 or less<br>\n",
        "            2. Grades 9 to 11<br>\n",
        "            3. Graduated high school<br>\n",
        "            4. 1 to 3 years of college<br>\n",
        "            5. College graduate<br>\n",
        "            6. Grad Study<br>\n",
        "Gender:\tM or F<br>\n",
        "Income: \n",
        "        \n",
        "            1. Less than $10,000<br>\n",
        "            2. $10,000 to $14,999<br>\n",
        "            3. $15,000 to $19,999<br>\n",
        "            4. $20,000 to $24,999<br>\n",
        "            5. $25,000 to $29,999<br>\n",
        "            6. $30,000 to $39,999<br>\n",
        "            7. $40,000 to $49,999<br>\n",
        "            8. $50,000 to $74,999<br>\n",
        "            9. $75,000 or more<br>\n",
        "Language:\tLanguage spoken at home<br>\n",
        "NbrInHouseHold:\tNumber in household<br>\n",
        "NbrInHouseholdUnder18:\tNumber in household under 18 years old<br>\n",
        "OwnRent:\tOwn, rent, or live with parents<br>\n",
        "YrsInArea:\tYears lived in bay area<br>\n",
        "Rider:\tNo, Non-rider; Yes, Rider<br>\n",
        "<br>\n",
        "**Target variable: Rider**"
      ]
    },
    {
      "cell_type": "markdown",
      "metadata": {
        "id": "oX6Nz3vgIzg4"
      },
      "source": [
        "## 1.Upload and clean data"
      ]
    },
    {
      "cell_type": "code",
      "metadata": {
        "id": "6j99MpIsHPf7"
      },
      "source": [
        "# Mounting Google Drive\n",
        "from google.colab import drive\n",
        "drive.mount('/content/drive')"
      ],
      "execution_count": null,
      "outputs": []
    },
    {
      "cell_type": "code",
      "metadata": {
        "id": "4FM3FiCKJjpg"
      },
      "source": [
        "# Import libraries\n",
        "import pandas as pd\n",
        "import seaborn as sns\n",
        "from sklearn.model_selection import train_test_split\n",
        "from matplotlib import pyplot as plt\n",
        "from sklearn import tree\n",
        "from sklearn.naive_bayes import MultinomialNB\n",
        "from sklearn.metrics import plot_confusion_matrix\n",
        "from sklearn.metrics import classification_report"
      ],
      "execution_count": null,
      "outputs": []
    },
    {
      "cell_type": "code",
      "metadata": {
        "id": "V-IiU92JI6Sf"
      },
      "source": [
        "# Read data\n",
        "BartRider = pd.read_csv('/content/drive/MyDrive/IS470_data/BartRider.csv')\n",
        "BartRider"
      ],
      "execution_count": null,
      "outputs": []
    },
    {
      "cell_type": "code",
      "metadata": {
        "id": "O2MctaG4JR-9"
      },
      "source": [
        "# Examine the number of rows and cols\n",
        "BartRider.shape"
      ],
      "execution_count": null,
      "outputs": []
    },
    {
      "cell_type": "code",
      "metadata": {
        "id": "XuMRX8u9jNCD"
      },
      "source": [
        "# Change categorical variables to \"category\"\n",
        "BartRider['DualInc'] = BartRider['DualInc'].astype('category')\n",
        "BartRider['Gender'] = BartRider['Gender'].astype('category')\n",
        "BartRider['Language'] = BartRider['Language'].astype('category')\n",
        "BartRider['OwnRent'] = BartRider['OwnRent'].astype('category')\n",
        "BartRider['Rider'] = BartRider['Rider'].astype('category')"
      ],
      "execution_count": null,
      "outputs": []
    },
    {
      "cell_type": "code",
      "metadata": {
        "id": "OH63bmlnOXyP"
      },
      "source": [
        "# Examine variable type\n",
        "BartRider.dtypes"
      ],
      "execution_count": null,
      "outputs": []
    },
    {
      "cell_type": "markdown",
      "metadata": {
        "id": "oaGt-veI9Iz5"
      },
      "source": [
        "## 2.Data partitioning and inspection code"
      ]
    },
    {
      "cell_type": "code",
      "metadata": {
        "id": "PGheFILukrMR"
      },
      "source": [
        "# Select only categorical variables to train the Naive Bayes model (1 point)\n"
      ],
      "execution_count": null,
      "outputs": []
    },
    {
      "cell_type": "code",
      "metadata": {
        "id": "Imb70iZunQn6"
      },
      "source": [
        "# Create dummy variables for all categorical variables, except the target variable (1 point)\n"
      ],
      "execution_count": null,
      "outputs": []
    },
    {
      "cell_type": "code",
      "metadata": {
        "id": "Chc0-7jRnpC9"
      },
      "source": [
        "# Partition the data to predictors_train, predictors_test, target_train, and target_test. Set test_size=0.3 and random_state=0 (1 point)\n"
      ],
      "execution_count": null,
      "outputs": []
    },
    {
      "cell_type": "markdown",
      "metadata": {
        "id": "u-iAdXvGNU5I"
      },
      "source": [
        "## 3.Naive Bayes training and testing."
      ]
    },
    {
      "cell_type": "code",
      "metadata": {
        "id": "YcKXGfbRoQqq"
      },
      "source": [
        "# Build a Naive Bayes model on training data with default setting (2 points)\n"
      ],
      "execution_count": null,
      "outputs": []
    },
    {
      "cell_type": "code",
      "metadata": {
        "id": "tK1-Id8gqrCT"
      },
      "source": [
        "# Make predictions on testing data (1 point)\n"
      ],
      "execution_count": null,
      "outputs": []
    },
    {
      "cell_type": "code",
      "metadata": {
        "id": "x9ZrPmoyqxb4"
      },
      "source": [
        "# Examine the evaluation results on testing data: confusion_matrix (1 point)\n"
      ],
      "execution_count": null,
      "outputs": []
    },
    {
      "cell_type": "code",
      "metadata": {
        "id": "gwLf9ADCq197"
      },
      "source": [
        "# Examine the evaluation results on testing data: accuracy, precision, recall, and f1-score (1 point)\n"
      ],
      "execution_count": null,
      "outputs": []
    },
    {
      "cell_type": "code",
      "metadata": {
        "id": "MNRp8uoa-0g0"
      },
      "source": [
        "!jupyter nbconvert --to html \"/content/drive/MyDrive/IS470_lab/Quiz1_IS470.ipynb\""
      ],
      "execution_count": null,
      "outputs": []
    }
  ]
}